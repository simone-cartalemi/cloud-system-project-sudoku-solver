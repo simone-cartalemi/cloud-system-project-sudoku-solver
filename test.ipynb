{
 "cells": [
  {
   "cell_type": "code",
   "execution_count": 1,
   "metadata": {},
   "outputs": [],
   "source": [
    "import socket\n",
    "\n",
    "def send_command_and_receive_file(host, port, command):\n",
    "    sock = socket.socket(socket.AF_INET, socket.SOCK_STREAM)\n",
    "\n",
    "    try:\n",
    "        sock.connect((host, port))\n",
    "        sock.sendall(command.encode() + b'\\n')\n",
    "        \n",
    "        # Ricevi la dimensione del file dal server\n",
    "        file_size_str = sock.recv(1024).decode().strip()\n",
    "        if not file_size_str:\n",
    "            print(\"Errore: dimensione del file non ricevuta\")\n",
    "            return\n",
    "        \n",
    "        file_size = int(file_size_str)\n",
    "        print(f\"Dimensione del file: {file_size} bytes\")\n",
    "        \n",
    "        # Ricevi file dal server\n",
    "        received_data = b''\n",
    "        while len(received_data) < file_size:\n",
    "            data = sock.recv(1024)\n",
    "            if not data:\n",
    "                break\n",
    "            received_data += data\n",
    "        \n",
    "        # Salva il file ricevuto\n",
    "        with open('results/output_file_from_container.txt', 'wb') as f:\n",
    "            f.write(received_data)\n",
    "            print(\"File salvato come 'output_file'\")\n",
    "\n",
    "    finally:\n",
    "        sock.close()\n"
   ]
  },
  {
   "cell_type": "code",
   "execution_count": 1,
   "metadata": {},
   "outputs": [],
   "source": [
    "import socket\n",
    "\n",
    "def send_command_and_receive_file(host, port, command):\n",
    "    sock = socket.socket(socket.AF_INET, socket.SOCK_STREAM)\n",
    "\n",
    "    try:\n",
    "        sock.connect((host, port))\n",
    "        sock.sendall(command.encode() + b'\\n')\n",
    "        \n",
    "        # Ricevi la dimensione del file dal server\n",
    "        file_size = 1024\n",
    "        \n",
    "        # Ricevi file dal server\n",
    "        received_data = b''\n",
    "        while len(received_data) < file_size:\n",
    "            data = sock.recv(1024)\n",
    "            if not data:\n",
    "                break\n",
    "            received_data += data\n",
    "        \n",
    "        # Salva il file ricevuto\n",
    "        with open('results/output_file_from_container.txt', 'wb') as f:\n",
    "            f.write(received_data)\n",
    "            print(\"File salvato come 'output_file'\")\n",
    "\n",
    "    finally:\n",
    "        sock.close()\n"
   ]
  },
  {
   "cell_type": "code",
   "execution_count": 11,
   "metadata": {},
   "outputs": [
    {
     "ename": "ConnectionRefusedError",
     "evalue": "[WinError 10061] Impossibile stabilire la connessione. Rifiuto persistente del computer di destinazione",
     "output_type": "error",
     "traceback": [
      "\u001b[1;31m---------------------------------------------------------------------------\u001b[0m",
      "\u001b[1;31mConnectionRefusedError\u001b[0m                    Traceback (most recent call last)",
      "Cell \u001b[1;32mIn[11], line 9\u001b[0m\n\u001b[0;32m      1\u001b[0m easy_matrixes \u001b[38;5;241m=\u001b[39m [\n\u001b[0;32m      2\u001b[0m     \u001b[38;5;124m\"\u001b[39m\u001b[38;5;124m[8,0,0,3,0,5,0,4,2,2,6,0,7,0,9,0,3,0,1,0,3,4,2,6,9,0,8,0,2,0,0,5,0,8,0,7,0,3,0,9,7,0,0,1,0,7,8,9,0,0,2,3,6,5,6,0,5,0,0,7,1,0,0,0,7,0,2,3,0,0,5,0,0,1,2,0,6,0,7,8,9]\u001b[39m\u001b[38;5;124m\"\u001b[39m,\n\u001b[0;32m      3\u001b[0m     \u001b[38;5;124m\"\u001b[39m\u001b[38;5;124m[6,4,0,0,2,3,0,0,9,0,7,8,0,0,6,2,1,0,3,0,0,7,0,9,5,0,6,0,8,9,0,6,0,0,0,4,5,0,0,2,1,0,0,8,7,4,2,1,0,9,7,6,0,0,0,6,0,5,0,1,7,9,0,8,0,7,6,4,0,0,5,1,1,0,3,9,7,0,0,0,2]\u001b[39m\u001b[38;5;124m\"\u001b[39m,\n\u001b[1;32m   (...)\u001b[0m\n\u001b[0;32m      6\u001b[0m     \u001b[38;5;124m\"\u001b[39m\u001b[38;5;124m\"\u001b[39m,\n\u001b[0;32m      7\u001b[0m ]\n\u001b[0;32m      8\u001b[0m m \u001b[38;5;241m=\u001b[39m easy_matrixes[\u001b[38;5;241m1\u001b[39m]\n\u001b[1;32m----> 9\u001b[0m \u001b[43msend_command_and_receive_file\u001b[49m\u001b[43m(\u001b[49m\u001b[38;5;124;43m'\u001b[39;49m\u001b[38;5;124;43mlocalhost\u001b[39;49m\u001b[38;5;124;43m'\u001b[39;49m\u001b[43m,\u001b[49m\u001b[43m \u001b[49m\u001b[38;5;241;43m3264\u001b[39;49m\u001b[43m,\u001b[49m\u001b[43m \u001b[49m\u001b[43mm\u001b[49m\u001b[43m)\u001b[49m\n",
      "Cell \u001b[1;32mIn[1], line 7\u001b[0m, in \u001b[0;36msend_command_and_receive_file\u001b[1;34m(host, port, command)\u001b[0m\n\u001b[0;32m      4\u001b[0m sock \u001b[38;5;241m=\u001b[39m socket\u001b[38;5;241m.\u001b[39msocket(socket\u001b[38;5;241m.\u001b[39mAF_INET, socket\u001b[38;5;241m.\u001b[39mSOCK_STREAM)\n\u001b[0;32m      6\u001b[0m \u001b[38;5;28;01mtry\u001b[39;00m:\n\u001b[1;32m----> 7\u001b[0m     \u001b[43msock\u001b[49m\u001b[38;5;241;43m.\u001b[39;49m\u001b[43mconnect\u001b[49m\u001b[43m(\u001b[49m\u001b[43m(\u001b[49m\u001b[43mhost\u001b[49m\u001b[43m,\u001b[49m\u001b[43m \u001b[49m\u001b[43mport\u001b[49m\u001b[43m)\u001b[49m\u001b[43m)\u001b[49m\n\u001b[0;32m      8\u001b[0m     sock\u001b[38;5;241m.\u001b[39msendall(command\u001b[38;5;241m.\u001b[39mencode() \u001b[38;5;241m+\u001b[39m \u001b[38;5;124mb\u001b[39m\u001b[38;5;124m'\u001b[39m\u001b[38;5;130;01m\\n\u001b[39;00m\u001b[38;5;124m'\u001b[39m)\n\u001b[0;32m     10\u001b[0m     \u001b[38;5;66;03m# Ricevi la dimensione del file dal server\u001b[39;00m\n",
      "\u001b[1;31mConnectionRefusedError\u001b[0m: [WinError 10061] Impossibile stabilire la connessione. Rifiuto persistente del computer di destinazione"
     ]
    }
   ],
   "source": [
    "easy_matrixes = [\n",
    "    \"[8,0,0,3,0,5,0,4,2,2,6,0,7,0,9,0,3,0,1,0,3,4,2,6,9,0,8,0,2,0,0,5,0,8,0,7,0,3,0,9,7,0,0,1,0,7,8,9,0,0,2,3,6,5,6,0,5,0,0,7,1,0,0,0,7,0,2,3,0,0,5,0,0,1,2,0,6,0,7,8,9]\",\n",
    "    \"[6,4,0,0,2,3,0,0,9,0,7,8,0,0,6,2,1,0,3,0,0,7,0,9,5,0,6,0,8,9,0,6,0,0,0,4,5,0,0,2,1,0,0,8,7,4,2,1,0,9,7,6,0,0,0,6,0,5,0,1,7,9,0,8,0,7,6,4,0,0,5,1,1,0,3,9,7,0,0,0,2]\",\n",
    "    \"[2,1,0,9,7,0,0,5,3,0,6,5,0,0,2,0,7,0,0,9,0,6,5,0,0,0,2,1,0,3,8,9,0,0,6,4,7,0,9,5,6,4,2,0,0,0,5,6,0,0,1,8,0,0,5,0,1,0,8,9,4,0,6,6,4,2,3,1,5,0,0,9,0,0,8,0,0,0,3,1,0]\",\n",
    "    \"[0,0,8,1,2,0,4,6,0,1,3,2,0,5,0,0,0,8,4,6,5,0,0,0,1,3,0,2,4,1,0,6,0,0,7,0,0,7,0,0,0,4,3,5,6,0,5,0,8,0,7,0,0,1,0,1,3,6,4,0,9,8,0,6,0,4,9,0,8,5,0,3,9,8,0,5,3,1,6,0,4]\",\n",
    "    \"\",\n",
    "]\n",
    "m = easy_matrixes[1]\n",
    "send_command_and_receive_file('localhost', 3264, m)"
   ]
  },
  {
   "cell_type": "code",
   "execution_count": 30,
   "metadata": {},
   "outputs": [
    {
     "name": "stdout",
     "output_type": "stream",
     "text": [
      "File salvato come 'output_file'\n"
     ]
    }
   ],
   "source": [
    "hard_matrix = \"[0,1,0,0,0,0,9,8,0,6,4,5,0,0,0,0,0,0,0,0,0,0,0,0,0,0,4,5,0,0,9,0,0,0,1,0,7,0,0,0,2,0,5,0,0,0,0,0,6,0,0,0,9,8,0,0,4,0,0,8,1,0,5,0,0,3,4,6,2,0,0,0,8,0,7,0,0,1,2,0,0]\"\n",
    "send_command_and_receive_file('localhost', 3264, hard_matrix)"
   ]
  }
 ],
 "metadata": {
  "kernelspec": {
   "display_name": "Python 3",
   "language": "python",
   "name": "python3"
  },
  "language_info": {
   "codemirror_mode": {
    "name": "ipython",
    "version": 3
   },
   "file_extension": ".py",
   "mimetype": "text/x-python",
   "name": "python",
   "nbconvert_exporter": "python",
   "pygments_lexer": "ipython3",
   "version": "3.12.3"
  }
 },
 "nbformat": 4,
 "nbformat_minor": 2
}
